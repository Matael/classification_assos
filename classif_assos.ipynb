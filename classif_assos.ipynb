{
 "metadata": {
  "name": "",
  "signature": "sha256:5cce2d7a2eb635f90ef9d9e474f3e7b29bf6101d134f11335fd2537268df0b60"
 },
 "nbformat": 3,
 "nbformat_minor": 0,
 "worksheets": [
  {
   "cells": [
    {
     "cell_type": "markdown",
     "metadata": {},
     "source": [
      "Classification des associations\n",
      "==============================="
     ]
    },
    {
     "cell_type": "code",
     "collapsed": false,
     "input": [
      "import sys\n",
      "import os\n",
      "\n",
      "print('Le r\u00e9pertoire courant contient :')\n",
      "for i in os.listdir(): print('- {}'.format(i))"
     ],
     "language": "python",
     "metadata": {},
     "outputs": [
      {
       "output_type": "stream",
       "stream": "stdout",
       "text": [
        "Le r\u00e9pertoire courant contient :\n",
        "- .ipynb_checkpoints\n",
        "- liste_des_associations_parisiennes.json\n",
        "- classif_assos.ipynb\n"
       ]
      }
     ],
     "prompt_number": 10
    },
    {
     "cell_type": "code",
     "collapsed": false,
     "input": [
      "JSON_FILE = \"liste_des_associations_parisiennes.json\""
     ],
     "language": "python",
     "metadata": {},
     "outputs": [],
     "prompt_number": 12
    },
    {
     "cell_type": "code",
     "collapsed": false,
     "input": [
      "import json\n",
      "\n",
      "with open(JSON_FILE) as f:\n",
      "    json_data = json.load(f)"
     ],
     "language": "python",
     "metadata": {},
     "outputs": [],
     "prompt_number": 15
    },
    {
     "cell_type": "code",
     "collapsed": true,
     "input": [
      "print('- '+'\\n- '.join(json_data[0]['fields'].keys()))"
     ],
     "language": "python",
     "metadata": {},
     "outputs": [
      {
       "output_type": "stream",
       "stream": "stdout",
       "text": [
        "- sa_secteur_d_activit_1\n",
        "- cp_adresse_code_postal\n",
        "- sa_libell_secteur_d_activit\n",
        "- sg_secteur_gographique\n",
        "- cp_adresse_ville\n",
        "- sa_secteur_d_activit_2\n",
        "- sa_libell_domaine_d_activit\n",
        "- pv_public_vis\n",
        "- sa_secteur_d_activit_3\n",
        "- cl_id_partenaire\n",
        "- pr_nom_statutaire\n"
       ]
      }
     ],
     "prompt_number": 31
    },
    {
     "cell_type": "code",
     "collapsed": false,
     "input": [
      "FIELDS = ('sa_secteur_d_activit_1', 'sa_secteur_d_activit_2', 'sa_secteur_d_activit_3')\n",
      "\n",
      "complete_tree = {}\n",
      "\n",
      "for record in json_data:\n",
      "    for f in FIELDS:\n",
      "        \n",
      "        \n",
      "class  = "
     ],
     "language": "python",
     "metadata": {},
     "outputs": [
      {
       "ename": "IndentationError",
       "evalue": "expected an indented block (<ipython-input-33-c8f75ba4aad7>, line 9)",
       "output_type": "pyerr",
       "traceback": [
        "\u001b[1;36m  File \u001b[1;32m\"<ipython-input-33-c8f75ba4aad7>\"\u001b[1;36m, line \u001b[1;32m9\u001b[0m\n\u001b[1;33m    class  =\u001b[0m\n\u001b[1;37m             ^\u001b[0m\n\u001b[1;31mIndentationError\u001b[0m\u001b[1;31m:\u001b[0m expected an indented block\n"
       ]
      }
     ],
     "prompt_number": 33
    },
    {
     "cell_type": "code",
     "collapsed": false,
     "input": [
      "for i in json_data:\n",
      "    if not i['fields'].get('pr_nom_statutaire'): print(i['recordid'])"
     ],
     "language": "python",
     "metadata": {},
     "outputs": [
      {
       "output_type": "stream",
       "stream": "stdout",
       "text": [
        "d5ae3d20b15f19efb1d48f5e14a055bae1cb435d\n"
       ]
      }
     ],
     "prompt_number": 35
    },
    {
     "cell_type": "code",
     "collapsed": false,
     "input": [
      "for i in json_data:\n",
      "    if i['recordid'] == \"d5ae3d20b15f19efb1d48f5e14a055bae1cb435d\":\n",
      "        a = i"
     ],
     "language": "python",
     "metadata": {},
     "outputs": [],
     "prompt_number": 36
    },
    {
     "cell_type": "code",
     "collapsed": false,
     "input": [
      "a"
     ],
     "language": "python",
     "metadata": {},
     "outputs": [
      {
       "metadata": {},
       "output_type": "pyout",
       "prompt_number": 37,
       "text": [
        "{'recordid': 'd5ae3d20b15f19efb1d48f5e14a055bae1cb435d',\n",
        " 'fields': {},\n",
        " 'record_timestamp': '2014-05-17T06:55:33.089681',\n",
        " 'datasetid': 'liste_des_associations_parisiennes'}"
       ]
      }
     ],
     "prompt_number": 37
    },
    {
     "cell_type": "code",
     "collapsed": false,
     "input": [],
     "language": "python",
     "metadata": {},
     "outputs": []
    }
   ],
   "metadata": {}
  }
 ]
}